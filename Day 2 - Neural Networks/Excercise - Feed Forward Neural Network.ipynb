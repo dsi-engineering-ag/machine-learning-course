{
 "cells": [
  {
   "cell_type": "markdown",
   "metadata": {},
   "source": [
    "<img src=\"https://dsiag.ch/images/dsi_rgb.png\" alt=\"dsi logo\" width=\"100\" style=\"position: absolute; right: 0px;\"/>\n",
    "\n",
    "# Exercise: Feed Forward Neural Network\n",
    "\n",
    "### Load Fashion MNIST Dataset\n",
    "\n",
    "Fashion-MNIST is a dataset of Zalando’s article images \n",
    "\n",
    "https://research.zalando.com/welcome/mission/research-projects/fashion-mnist/\n"
   ]
  },
  {
   "cell_type": "code",
   "execution_count": 2,
   "metadata": {},
   "outputs": [],
   "source": [
    "import tensorflow as tf\n",
    "import matplotlib.pyplot as plt"
   ]
  },
  {
   "cell_type": "code",
   "execution_count": 3,
   "metadata": {},
   "outputs": [],
   "source": [
    "# fashion mnist is integrated into tf.keras.datasets\n",
    "fashion_mnist = tf.keras.datasets.fashion_mnist\n",
    "(train_images, train_labels), (test_images, test_labels) = fashion_mnist.load_data()\n",
    "\n",
    "# define class names\n",
    "class_names = ['T-shirt/top', 'Trouser', 'Pullover', 'Dress', 'Coat',\n",
    "               'Sandal', 'Shirt', 'Sneaker', 'Bag', 'Ankle boot']\n",
    "\n",
    "# Put grayscale values between 0 and 1\n",
    "train_images = train_images / 255.0\n",
    "test_images = test_images / 255.0\n",
    "\n",
    "# Convert Labels to One-Hot Encoding \n",
    "train_labels_one_hot = tf.one_hot(train_labels, len(class_names))\n",
    "test_labels_one_hot = tf.one_hot(test_labels, len(class_names))"
   ]
  },
  {
   "cell_type": "markdown",
   "metadata": {},
   "source": [
    "## Exercise Tasks\n",
    "\n",
    "**1. Create a sequential feed forward tensorflow model with the following properties:**\n",
    "- the 28x28 input images are flattened to a vector\n",
    "- the internal layer contains 128 nodes and is activated with the RELU function\n",
    "- the output layer has ten output logits (one for each class in the one-hot encoded label)\n",
    "- the softmax function is applied to the logits\n",
    "- it uses a stochastic gradient descent optimizer with a categorical crossentropy loss function\n",
    "\n",
    "How many trainable parameters has this model?\n",
    "\n",
    "**2. Train the model on the training data for 10 epochs**\n",
    "\n",
    "How good is the accuracy on the training data?\n",
    "    \n",
    "**3. Evaluate your model**\n",
    "\n",
    "How good is the accuracy on the test data?\n",
    "\n",
    "**4. How does it compare to the logistic regression model?**\n",
    "\n",
    "**5. (Optional) Can you improve your model?**\n",
    "\n",
    "\n",
    "\n",
    "\n",
    "#### Links / References:\n",
    "\n",
    "- TensorFlow Quick Start for Beginners: https://www.tensorflow.org/tutorials/quickstart/beginner\n",
    "- TensorFlow Keras Classification https://www.tensorflow.org/tutorials/keras/classification"
   ]
  },
  {
   "cell_type": "code",
   "execution_count": null,
   "metadata": {},
   "outputs": [],
   "source": []
  }
 ],
 "metadata": {
  "kernelspec": {
   "display_name": "Python 3",
   "language": "python",
   "name": "python3"
  },
  "language_info": {
   "codemirror_mode": {
    "name": "ipython",
    "version": 3
   },
   "file_extension": ".py",
   "mimetype": "text/x-python",
   "name": "python",
   "nbconvert_exporter": "python",
   "pygments_lexer": "ipython3",
   "version": "3.7.3"
  }
 },
 "nbformat": 4,
 "nbformat_minor": 2
}
