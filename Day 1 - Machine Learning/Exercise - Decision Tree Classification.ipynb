{
 "cells": [
  {
   "cell_type": "markdown",
   "metadata": {},
   "source": [
    "<img src=\"https://dsiag.ch/images/dsi_rgb.png\" alt=\"dsi logo\" width=\"100\" style=\"position: absolute; right: 0px;\"/>\n",
    "\n",
    "# Exercise: Decision Tree\n",
    "\n",
    "### Load preprocessed titanic dataset "
   ]
  },
  {
   "cell_type": "code",
   "execution_count": 1,
   "metadata": {},
   "outputs": [],
   "source": [
    "import pickle \n",
    "dataset = pickle.load( open( \"../data/titanic.pickle\", \"rb\" ) )\n",
    "X_train = dataset['X_train']\n",
    "y_train = dataset['y_train']\n",
    "X_test = dataset['X_test']\n",
    "y_test = dataset['y_test']"
   ]
  },
  {
   "cell_type": "markdown",
   "metadata": {},
   "source": [
    "### Excercise Tasks\n",
    "\n",
    "1. Create a decision tree based classifier with sklearn\n",
    "2. Train the classifier on the training data (`X_train, y_train`). How high is the accuracy on the training data?\n",
    "3. Make the prediction on the test data (`X_test`) and measure the accuracy of the predictions with the test labels (`y_test`)\n",
    "4. (Optional) Plot the decision tree and validate it manually\n",
    "\n",
    " \n",
    "*Links / References:* \n",
    "- Scikit Learn Decision Tree Classification https://sklearn.org/modules/tree.html#classification\n"
   ]
  },
  {
   "cell_type": "code",
   "execution_count": null,
   "metadata": {},
   "outputs": [],
   "source": []
  }
 ],
 "metadata": {
  "kernelspec": {
   "display_name": "Python 3",
   "language": "python",
   "name": "python3"
  },
  "language_info": {
   "codemirror_mode": {
    "name": "ipython",
    "version": 3
   },
   "file_extension": ".py",
   "mimetype": "text/x-python",
   "name": "python",
   "nbconvert_exporter": "python",
   "pygments_lexer": "ipython3",
   "version": "3.7.3"
  }
 },
 "nbformat": 4,
 "nbformat_minor": 2
}
