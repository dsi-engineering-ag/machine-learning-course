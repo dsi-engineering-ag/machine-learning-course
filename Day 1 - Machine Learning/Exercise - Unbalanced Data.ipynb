{
 "cells": [
  {
   "cell_type": "markdown",
   "metadata": {},
   "source": [
    "<img src=\"https://dsiag.ch/images/dsi_rgb.png\" alt=\"dsi logo\" width=\"100\" style=\"position: absolute; right: 0px;\"/>\n",
    "\n",
    "# Exercise: Unbalanced Data\n",
    "### Create unbalanced  dataset \n",
    "\n",
    "We create an unbalanced dataset by loading the digits dataset and modify the target value so that is becomes a binary classifier to detect one digit."
   ]
  },
  {
   "cell_type": "code",
   "execution_count": 1,
   "metadata": {},
   "outputs": [],
   "source": [
    "from sklearn import datasets, model_selection, svm, naive_bayes, metrics,tree, neighbors\n",
    "import numpy as np\n",
    "\n",
    "digits = datasets.load_digits()\n",
    "\n",
    "digit_to_detect = 1\n",
    "target = digits.target == digit_to_detect\n",
    "\n",
    "X_train, X_test, y_train, y_test = model_selection.train_test_split(digits.data, target.astype(int), test_size=0.5, random_state=23)"
   ]
  },
  {
   "cell_type": "markdown",
   "metadata": {},
   "source": [
    "### Calculate results for various classifiers "
   ]
  },
  {
   "cell_type": "code",
   "execution_count": 2,
   "metadata": {},
   "outputs": [],
   "source": [
    "results = {}\n",
    "\n",
    "# Dummy classifier to return always class 0\n",
    "results['dummy'] = np.zeros(len(y_test))\n",
    "# Naive Bayes Classifier\n",
    "results['gnb'] = naive_bayes.GaussianNB().fit(X_train, y_train).predict(X_test)\n",
    "# Nearest Neigbour Classifier\n",
    "results['knn'] = neighbors.KNeighborsClassifier().fit(X_train, y_train).predict(X_test)\n",
    "# Decision Tree Classifier\n",
    "results['tree'] = tree.DecisionTreeClassifier().fit(X_train, y_train).predict(X_test)\n",
    "# Linear SVM\n",
    "results['svmlin'] = svm.SVC(kernel='linear').fit(X_train, y_train).predict(X_test)\n",
    "# RBF Kernel SVM\n",
    "results['svmrbf'] = svm.SVC(kernel='rbf', gamma='scale').fit(X_train, y_train).predict(X_test)\n"
   ]
  },
  {
   "cell_type": "markdown",
   "metadata": {},
   "source": [
    "### Excercise Tasks\n",
    "\n",
    "1. Calculate the following metrics for each classifier \n",
    "    - Accuracy\n",
    "    - Precision\n",
    "    - Recall\n",
    "    - F1\n",
    "2. Compare the results of the algorithm, which one would you choose? Why?\n",
    "3. (Optional) Change the `digit_to_detect`. Is the result still similar?\n",
    "4. Add additional classifiers. Can you improve the results?\n",
    "\n",
    " \n",
    "*Links / References:* \n",
    "- Scikit Learn Model Evaluation Documentation https://sklearn.org/modules/model_evaluation.html\n"
   ]
  },
  {
   "cell_type": "code",
   "execution_count": null,
   "metadata": {},
   "outputs": [],
   "source": []
  }
 ],
 "metadata": {
  "kernelspec": {
   "display_name": "Python 3",
   "language": "python",
   "name": "python3"
  },
  "language_info": {
   "codemirror_mode": {
    "name": "ipython",
    "version": 3
   },
   "file_extension": ".py",
   "mimetype": "text/x-python",
   "name": "python",
   "nbconvert_exporter": "python",
   "pygments_lexer": "ipython3",
   "version": "3.7.3"
  }
 },
 "nbformat": 4,
 "nbformat_minor": 2
}
